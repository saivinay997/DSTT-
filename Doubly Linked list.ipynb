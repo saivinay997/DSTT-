{
 "cells": [
  {
   "cell_type": "code",
   "execution_count": 50,
   "id": "08bcec8c",
   "metadata": {},
   "outputs": [],
   "source": [
    "class Node:\n",
    "    def __init__(self,data, prev=None, next=None):\n",
    "        self.data = data\n",
    "        self.prev = prev\n",
    "        self.next = next\n",
    "        \n",
    "class DoublyLinkedList:\n",
    "    def __init__(self):\n",
    "        self.head = None\n",
    "        \n",
    "    def add(self, data):\n",
    "        new_node = Node(data)\n",
    "        \n",
    "        if self.head is None:\n",
    "            self.head = new_node\n",
    "            return\n",
    "        \n",
    "        temp = self.head\n",
    "        \n",
    "        while temp.next is not None:\n",
    "            temp = temp.next\n",
    "        \n",
    "        new_node.prev = temp\n",
    "        temp.next = new_node\n",
    "        \n",
    "    def print(self):\n",
    "        temp = self.head\n",
    "        while temp is not None:\n",
    "            print(temp.data, end=\" <--> \")\n",
    "            temp = temp.next\n",
    "            \n",
    "    def print_backward(self):\n",
    "        temp = self.head\n",
    "        while temp.next is not None:\n",
    "            temp = temp.next\n",
    "        while temp != self.head :\n",
    "            print(temp.data, end=' <--> ')\n",
    "            temp = temp.prev\n",
    "            \n",
    "    def insert_at_position(self,data,position):\n",
    "        \n",
    "        if position < 0 :\n",
    "            print('invalid position')\n",
    "            return\n",
    "        if position == 1:\n",
    "            temp = self.head\n",
    "            new_node = Node(data)\n",
    "            new_node.next = self.head\n",
    "            self.head = new_node\n",
    "            return\n",
    "               \n",
    "    def delet_at(self, position):\n",
    "        if position < 0:\n",
    "            print(\"invalid position\")\n",
    "            return\n",
    "        \n",
    "        index = 1\n",
    "        trav = self.head\n",
    "        while trav is not None:\n",
    "            trav = trav.next\n",
    "            index += 1\n",
    "        if index < position:\n",
    "            print('invalid position')\n",
    "            return\n",
    "        \n",
    "        if position == 1:\n",
    "            self.head = self.head.next\n",
    "            self.head.prev = None\n",
    "            return\n",
    "        \n",
    "        temp = self.head\n",
    "        count = 1\n",
    "        while count != position:\n",
    "            temp = temp.next\n",
    "            count +=1\n",
    "        if temp.prev: #helps in deleting last node\n",
    "            temp.prev.next = temp.next\n",
    "        if temp.next: # helps in deleting last node\n",
    "            temp.next.prev = temp.prev\n",
    "        "
   ]
  },
  {
   "cell_type": "code",
   "execution_count": 57,
   "id": "ce368ed4",
   "metadata": {},
   "outputs": [
    {
     "name": "stdout",
     "output_type": "stream",
     "text": [
      "9 <--> 5 <--> 9 <--> 1 <--> 3 <--> 2 <--> 7 <--> 1 <--> 1 <--> "
     ]
    }
   ],
   "source": [
    "dl = DoublyLinkedList()\n",
    "num = [9,5,9,1,3,2,7,1,1,4]\n",
    "for i in num:\n",
    "    dl.add(i)\n",
    "#dl.insert_at_position(0,1)\n",
    "dl.delet_at(10)\n",
    "#dl.delet_at(10)\n",
    "dl.print()"
   ]
  },
  {
   "cell_type": "code",
   "execution_count": null,
   "id": "a152eebd",
   "metadata": {},
   "outputs": [],
   "source": []
  }
 ],
 "metadata": {
  "kernelspec": {
   "display_name": "Python 3 (ipykernel)",
   "language": "python",
   "name": "python3"
  },
  "language_info": {
   "codemirror_mode": {
    "name": "ipython",
    "version": 3
   },
   "file_extension": ".py",
   "mimetype": "text/x-python",
   "name": "python",
   "nbconvert_exporter": "python",
   "pygments_lexer": "ipython3",
   "version": "3.9.12"
  }
 },
 "nbformat": 4,
 "nbformat_minor": 5
}
