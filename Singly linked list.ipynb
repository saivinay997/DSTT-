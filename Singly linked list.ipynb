{
 "cells": [
  {
   "cell_type": "code",
   "execution_count": 49,
   "id": "41364034",
   "metadata": {},
   "outputs": [],
   "source": [
    "class Node:\n",
    "    def __init__(self, data, next= None):\n",
    "        self.data = data\n",
    "        self.next = next\n",
    "        \n",
    "class LinkedList:\n",
    "    def __init__(self):\n",
    "        self.head = None\n",
    "        \n",
    "    def add(self,data):\n",
    "        new_node = Node(data)\n",
    "        \n",
    "        if self.head is None:\n",
    "            self.head = new_node\n",
    "            return\n",
    "        \n",
    "        temp = self.head\n",
    "        while temp.next is not None:\n",
    "            temp = temp.next\n",
    "        temp.next = new_node\n",
    "        \n",
    "    def print(self):\n",
    "        \n",
    "        temp = self.head\n",
    "        while temp.next is not None:\n",
    "            print(temp.data, end=\" --> \")\n",
    "            temp = temp.next\n",
    "        \n",
    "        \n",
    "    def insert_at_begining(self, data):\n",
    "        new_node = Node(data)\n",
    "        new_node.next = self.head\n",
    "        self.head = new_node\n",
    "    \n",
    "    def insert_at_end(self, data):\n",
    "        new_node = Node(data)\n",
    "        temp = self.head\n",
    "        while temp.next is not None:\n",
    "            temp = temp.next\n",
    "        temp.next = new_node\n",
    "        \n",
    "    def insert_at_position(self, data, position):\n",
    "        if position < 0:\n",
    "            print('invalid position')\n",
    "            \n",
    "        temp = next = self.head\n",
    "        if position == 0:\n",
    "            return self.insert_at_begining(data)\n",
    "        \n",
    "        count = 1\n",
    "        new_node = Node(data)\n",
    "        \n",
    "        while count != position-1:\n",
    "            temp = temp.next\n",
    "            count+=1\n",
    "        new_node.next = temp.next\n",
    "        temp.next = new_node\n",
    "        \n",
    "    def delete_from_position(self,position):\n",
    "        if position<0:\n",
    "            print(\"invalid position\")\n",
    "            return\n",
    "        if position == 0:\n",
    "            self.head = self.head.next\n",
    "            return\n",
    "        temp = self.head\n",
    "        count=1\n",
    "        while count !=  position-1:\n",
    "            temp = temp.next\n",
    "            count+=1\n",
    "        temp.next = temp.next.next\n",
    "        "
   ]
  },
  {
   "cell_type": "code",
   "execution_count": 50,
   "id": "411d3c87",
   "metadata": {},
   "outputs": [
    {
     "name": "stdout",
     "output_type": "stream",
     "text": [
      "9 --> 5 --> 9 --> 1 --> 3 --> 2 --> 7 --> 1 --> 1 --> 4 --> "
     ]
    }
   ],
   "source": [
    "ll = LinkedList()\n",
    "num = [9,5,9,1,3,2,7,1,1,4]\n",
    "for i in num:\n",
    "    ll.add(i)\n",
    "\n",
    "ll.insert_at_position(0,0)\n",
    "ll.delete_from_position(0)\n",
    "ll.insert_at_end(9)\n",
    "ll.print()"
   ]
  },
  {
   "cell_type": "code",
   "execution_count": null,
   "id": "a036fbda",
   "metadata": {},
   "outputs": [],
   "source": []
  }
 ],
 "metadata": {
  "kernelspec": {
   "display_name": "Python 3 (ipykernel)",
   "language": "python",
   "name": "python3"
  },
  "language_info": {
   "codemirror_mode": {
    "name": "ipython",
    "version": 3
   },
   "file_extension": ".py",
   "mimetype": "text/x-python",
   "name": "python",
   "nbconvert_exporter": "python",
   "pygments_lexer": "ipython3",
   "version": "3.9.12"
  }
 },
 "nbformat": 4,
 "nbformat_minor": 5
}
