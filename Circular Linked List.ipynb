{
 "cells": [
  {
   "cell_type": "code",
   "execution_count": 21,
   "id": "a1520ee2",
   "metadata": {},
   "outputs": [],
   "source": [
    "class Node:\n",
    "    def __init__(self, data, next= None):\n",
    "        self.data = data\n",
    "        self.next = next\n",
    "        \n",
    "class CircularLinkedList:\n",
    "    def __init__(self):\n",
    "        self.head = None\n",
    "        \n",
    "    def add(self, data):\n",
    "        new_node = Node(data)\n",
    "        \n",
    "        if self.head is None:\n",
    "            self.head = new_node\n",
    "            new_node.next = self.head\n",
    "            return\n",
    "        temp = self.head\n",
    "        \n",
    "        while temp.next != self.head:\n",
    "            temp = temp.next\n",
    "        temp.next = new_node\n",
    "        new_node.next = self.head\n",
    "        #self.head = new_node # this line  of code makes the list to be a queue\n",
    "    \n",
    "    \n",
    "    \n",
    "    def print(self):\n",
    "        temp = self.head\n",
    "        count = 1\n",
    "        while True:\n",
    "            print(temp.data, end=\" --> \")\n",
    "            temp = temp.next\n",
    "            \n",
    "            if temp == self.head:\n",
    "                break\n",
    "            count+=1\n",
    "        print(\"\\n The number of elements: \",count)\n",
    "        \n",
    "    #def delete_position(self, position):\n",
    "        "
   ]
  },
  {
   "cell_type": "code",
   "execution_count": 22,
   "id": "77ee4989",
   "metadata": {},
   "outputs": [
    {
     "name": "stdout",
     "output_type": "stream",
     "text": [
      "9 --> 5 --> 9 --> 1 --> 3 --> 2 --> 7 --> 1 --> 1 --> 4 --> \n",
      " The number of elements:  10\n"
     ]
    }
   ],
   "source": [
    "nums = [9,5,9,1,3,2,7,1,1,4]\n",
    "cl = CircularLinkedList()\n",
    "for i in nums:\n",
    "    cl.add(i)\n",
    "    \n",
    "cl.print()"
   ]
  },
  {
   "cell_type": "code",
   "execution_count": null,
   "id": "938f3f18",
   "metadata": {},
   "outputs": [],
   "source": []
  }
 ],
 "metadata": {
  "kernelspec": {
   "display_name": "Python 3 (ipykernel)",
   "language": "python",
   "name": "python3"
  },
  "language_info": {
   "codemirror_mode": {
    "name": "ipython",
    "version": 3
   },
   "file_extension": ".py",
   "mimetype": "text/x-python",
   "name": "python",
   "nbconvert_exporter": "python",
   "pygments_lexer": "ipython3",
   "version": "3.9.12"
  }
 },
 "nbformat": 4,
 "nbformat_minor": 5
}
